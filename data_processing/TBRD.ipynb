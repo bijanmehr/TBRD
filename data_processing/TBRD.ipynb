{
  "nbformat": 4,
  "nbformat_minor": 0,
  "metadata": {
    "colab": {
      "name": "TBRD.ipynb",
      "private_outputs": true,
      "provenance": [],
      "include_colab_link": true
    },
    "kernelspec": {
      "name": "python3",
      "display_name": "Python 3"
    },
    "language_info": {
      "name": "python"
    }
  },
  "cells": [
    {
      "cell_type": "markdown",
      "metadata": {
        "id": "view-in-github",
        "colab_type": "text"
      },
      "source": [
        "<a href=\"https://colab.research.google.com/github/bijanmehr/TBRD/blob/master/data_processing/TBRD.ipynb\" target=\"_parent\"><img src=\"https://colab.research.google.com/assets/colab-badge.svg\" alt=\"Open In Colab\"/></a>"
      ]
    },
    {
      "cell_type": "code",
      "execution_count": null,
      "metadata": {
        "id": "6r-9RFsrB8k6"
      },
      "outputs": [],
      "source": [
        "!git clone https://github.com/bijanmehr/TBRD.git"
      ]
    },
    {
      "cell_type": "code",
      "source": [
        "import pandas as pd\n",
        "import matplotlib.pyplot as plt\n",
        "import numpy as np\n",
        "from skimage.restoration import denoise_wavelet"
      ],
      "metadata": {
        "id": "Q6-HzAxpB-4D"
      },
      "execution_count": null,
      "outputs": []
    },
    {
      "cell_type": "code",
      "source": [
        "df = pd.read_csv('/content/TBRD/dataset/morad_beygi/1/9.csv')"
      ],
      "metadata": {
        "id": "CInO8iWcCb5b"
      },
      "execution_count": null,
      "outputs": []
    },
    {
      "cell_type": "code",
      "source": [
        "# split the dataframe based on unique values in cnt column\n",
        "\n",
        "data_chunks = []\n",
        "\n",
        "for val in df.cnt.unique():\n",
        "  data_chunks.append(df[df.cnt == val])\n"
      ],
      "metadata": {
        "id": "ZgG86h-pOI95"
      },
      "execution_count": null,
      "outputs": []
    },
    {
      "cell_type": "code",
      "source": [
        "def timeparser(input):\n",
        "  '''\n",
        "  input: time in HH:MM:SS format\n",
        "  return: time value between 0 and 86399\n",
        "  '''\n",
        "  temp = input.split(\":\")\n",
        "  time = int(temp [0]) * 3600 + int(temp [1]) * 60 + int(temp [2])\n",
        "  return time"
      ],
      "metadata": {
        "id": "9KZJxuQwD-1j"
      },
      "execution_count": null,
      "outputs": []
    },
    {
      "cell_type": "code",
      "source": [
        "df.time = df.time.apply(lambda x: timeparser(x))"
      ],
      "metadata": {
        "id": "KeQny6o_GKPC"
      },
      "execution_count": null,
      "outputs": []
    },
    {
      "cell_type": "code",
      "source": [
        "df.time = df.time.apply(lambda x: x - df.time[0])"
      ],
      "metadata": {
        "id": "iRTUE7fkIAh8"
      },
      "execution_count": null,
      "outputs": []
    },
    {
      "cell_type": "code",
      "source": [
        "distance = df.distance.to_numpy()\n",
        "\n",
        "plt.figure(figsize=(30, 9), dpi=80)\n",
        "plt.title(\"moradbeygi\")\n",
        "plt.plot(distance)"
      ],
      "metadata": {
        "id": "2QBrLV1BOWSR"
      },
      "execution_count": null,
      "outputs": []
    },
    {
      "cell_type": "code",
      "source": [
        "# find maximum len of all arrays\n",
        "max_len = 0\n",
        "\n",
        "for chunk in data_chunks:\n",
        "  period = chunk.distance.to_numpy()\n",
        "  if len(period) > 1:\n",
        "    if len(period) > max_len:\n",
        "      max_len = len(period)"
      ],
      "metadata": {
        "id": "XTLAW47LICr7"
      },
      "execution_count": null,
      "outputs": []
    },
    {
      "cell_type": "code",
      "source": [
        "# padding all data chunk to equalize their sizes\n",
        "# add the mean of each data chunk to avoid shifting their average\n",
        "\n",
        "period_matrix = []\n",
        "\n",
        "for chunk in data_chunks:\n",
        "  period = chunk.distance.to_numpy()\n",
        "  if len(period) > 1:\n",
        "    if len(period) < max_len:\n",
        "      period = np.pad(period, (0, abs(len(period) - max_len)),'mean')\n",
        "      period_matrix.append(period)\n"
      ],
      "metadata": {
        "id": "bj18Jdb2XRHu"
      },
      "execution_count": null,
      "outputs": []
    },
    {
      "cell_type": "code",
      "source": [
        "# plot all data chunks\n",
        "\n",
        "plt.figure(figsize=(30, 9), dpi=80)\n",
        "for chunk in period_matrix:\n",
        "  plt.plot(chunk)"
      ],
      "metadata": {
        "id": "BdgX5q8xYCXh"
      },
      "execution_count": null,
      "outputs": []
    },
    {
      "cell_type": "code",
      "source": [
        "# plot the average of all data chunks in one cycle\n",
        "\n",
        "mean_cycle = np.mean(np.array(period_matrix),0)\n",
        "\n",
        "plt.figure(figsize=(30, 9), dpi=80)\n",
        "plt.plot(mean_cycle)"
      ],
      "metadata": {
        "id": "fjm5O97dZBV4"
      },
      "execution_count": null,
      "outputs": []
    },
    {
      "cell_type": "code",
      "source": [
        "d = np.diff(distance)\n",
        "dd = np.diff(d)\n",
        "ddd= np.diff(dd)\n",
        "\n",
        "plt.figure(figsize=(30, 9), dpi=80)\n",
        "plt.title(\"derivations\")\n",
        "# plt.plot(d)\n",
        "# plt.plot(dd)\n",
        "plt.plot(dd[1:15])\n"
      ],
      "metadata": {
        "id": "B00KwF0GKSu6"
      },
      "execution_count": null,
      "outputs": []
    },
    {
      "cell_type": "code",
      "source": [
        ""
      ],
      "metadata": {
        "id": "IWRwlWjtTD-J"
      },
      "execution_count": null,
      "outputs": []
    }
  ]
}