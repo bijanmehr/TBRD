{
  "nbformat": 4,
  "nbformat_minor": 0,
  "metadata": {
    "colab": {
      "name": "TBRD.ipynb",
      "private_outputs": true,
      "provenance": []
    },
    "kernelspec": {
      "name": "python3",
      "display_name": "Python 3"
    },
    "language_info": {
      "name": "python"
    }
  },
  "cells": [
    {
      "cell_type": "code",
      "execution_count": null,
      "metadata": {
        "id": "6r-9RFsrB8k6"
      },
      "outputs": [],
      "source": [
        "!git clone https://github.com/bijanmehr/TBRD.git"
      ]
    },
    {
      "cell_type": "code",
      "source": [
        "import pandas as pd\n",
        "import matplotlib.pyplot as plt\n",
        "import numpy as np\n",
        "from skimage.restoration import denoise_wavelet"
      ],
      "metadata": {
        "id": "Q6-HzAxpB-4D"
      },
      "execution_count": null,
      "outputs": []
    },
    {
      "cell_type": "code",
      "source": [
        "df = pd.read_csv('/content/TBRD/dataset/morad_beygi/1/9.csv')\n",
        "df"
      ],
      "metadata": {
        "id": "CInO8iWcCb5b"
      },
      "execution_count": null,
      "outputs": []
    },
    {
      "cell_type": "code",
      "source": [
        "def timeparser(input):\n",
        "  '''\n",
        "  input: time in HH:MM:SS format\n",
        "  return: time value between 0 and 86399\n",
        "  '''\n",
        "  temp = input.split(\":\")\n",
        "  time = int(temp [0]) * 3600 + int(temp [1]) * 60 + int(temp [2])\n",
        "  return time"
      ],
      "metadata": {
        "id": "9KZJxuQwD-1j"
      },
      "execution_count": null,
      "outputs": []
    },
    {
      "cell_type": "code",
      "source": [
        "df.time = df.time.apply(lambda x: timeparser(x))"
      ],
      "metadata": {
        "id": "KeQny6o_GKPC"
      },
      "execution_count": null,
      "outputs": []
    },
    {
      "cell_type": "code",
      "source": [
        "df.time = df.time.apply(lambda x: x - df.time[0])"
      ],
      "metadata": {
        "id": "iRTUE7fkIAh8"
      },
      "execution_count": null,
      "outputs": []
    },
    {
      "cell_type": "code",
      "source": [
        "# df.distance = df.distance.apply(lambda x: x - df.distance[0])"
      ],
      "metadata": {
        "id": "gOn5rgMjRqQ0"
      },
      "execution_count": null,
      "outputs": []
    },
    {
      "cell_type": "code",
      "source": [
        "distance = df.distance.to_numpy()\n",
        "denoise_dis = denoise_wavelet(distance, method='VisuShrink', mode='soft', wavelet_levels=10, wavelet='sym8', rescale_sigma='True')"
      ],
      "metadata": {
        "id": "XTLAW47LICr7"
      },
      "execution_count": null,
      "outputs": []
    },
    {
      "cell_type": "code",
      "source": [
        "plt.figure(figsize=(30, 9), dpi=80)\n",
        "plt.title(\"moradbeygi\")\n",
        "plt.plot(distance)"
      ],
      "metadata": {
        "id": "2QBrLV1BOWSR"
      },
      "execution_count": null,
      "outputs": []
    },
    {
      "cell_type": "code",
      "source": [
        "plt.figure(figsize=(30, 9), dpi=80)\n",
        "plt.title(\"moradbeygi9_wavelet_filtered\")\n",
        "plt.plot(denoise_dis)"
      ],
      "metadata": {
        "id": "cBo28jXmIR3q"
      },
      "execution_count": null,
      "outputs": []
    },
    {
      "cell_type": "code",
      "source": [
        "d = np.diff(distance)\n",
        "dd = np.diff(d)\n",
        "ddd= np.diff(dd)\n",
        "\n",
        "plt.figure(figsize=(30, 9), dpi=80)\n",
        "plt.title(\"derivations\")\n",
        "# plt.plot(d)\n",
        "# plt.plot(dd)\n",
        "plt.plot(dd[1:15])\n"
      ],
      "metadata": {
        "id": "B00KwF0GKSu6"
      },
      "execution_count": null,
      "outputs": []
    },
    {
      "cell_type": "code",
      "source": [
        "d[1:15]"
      ],
      "metadata": {
        "id": "zZS9XxzLSAnA"
      },
      "execution_count": null,
      "outputs": []
    },
    {
      "cell_type": "code",
      "source": [
        ""
      ],
      "metadata": {
        "id": "IWRwlWjtTD-J"
      },
      "execution_count": null,
      "outputs": []
    }
  ]
}